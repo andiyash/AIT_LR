{
 "cells": [
  {
   "metadata": {
    "ExecuteTime": {
     "end_time": "2024-05-12T17:09:13.226993Z",
     "start_time": "2024-05-12T17:09:13.223818Z"
    }
   },
   "cell_type": "code",
   "source": [
    "import numpy as np\n",
    "import pandas as pd"
   ],
   "id": "fbc121e30a2defb3",
   "outputs": [],
   "execution_count": 41
  },
  {
   "metadata": {},
   "cell_type": "markdown",
   "source": "",
   "id": "e53e2eed580b8d9c"
  },
  {
   "metadata": {},
   "cell_type": "markdown",
   "source": "",
   "id": "2645757364a8160"
  },
  {
   "metadata": {},
   "cell_type": "markdown",
   "source": "1. Считать в pandas.DataFrame любой источник данных: CSV, JSON, Excel-файл, HTML-таблицу и т.п.",
   "id": "5e656fc98ace848e"
  },
  {
   "metadata": {
    "ExecuteTime": {
     "end_time": "2024-05-12T17:14:14.444552Z",
     "start_time": "2024-05-12T17:14:14.392919Z"
    }
   },
   "cell_type": "code",
   "source": [
    "# read csv files\n",
    "dataset = pd.read_csv('Dataset.csv')\n",
    "dataset1 = pd.read_csv('Dataset.csv')"
   ],
   "id": "f809d78db600bc3b",
   "outputs": [],
   "execution_count": 42
  },
  {
   "metadata": {},
   "cell_type": "markdown",
   "source": "2. Привести описание датасета.",
   "id": "f25693042a7e5779"
  },
  {
   "metadata": {},
   "cell_type": "markdown",
   "source": [
    "**Датасет содержит данные об оценках (колонка rating) пользователей имеющих уникальных user_id фильмам, которые имеют уникальных item_id, также в датасете приводится временная метка. Цель - прогнозирование оценок ещё не оцененных фильмов.**\n",
    "\n"
   ],
   "id": "dff71b33d6122e10"
  },
  {
   "metadata": {
    "ExecuteTime": {
     "end_time": "2024-05-12T17:14:15.733621Z",
     "start_time": "2024-05-12T17:14:15.728873Z"
    }
   },
   "cell_type": "code",
   "source": "print(dataset)",
   "id": "1d9dfdd9a9fef1b9",
   "outputs": [
    {
     "name": "stdout",
     "output_type": "stream",
     "text": [
      "        user_id  item_id  rating  timestamp\n",
      "0             0       50       5  881250949\n",
      "1             0      172       5  881250949\n",
      "2             0      133       1  881250949\n",
      "3           196      242       3  881250949\n",
      "4           186      302       3  891717742\n",
      "...         ...      ...     ...        ...\n",
      "99998       880      476       3  880175444\n",
      "99999       716      204       5  879795543\n",
      "100000      276     1090       1  874795795\n",
      "100001       13      225       2  882399156\n",
      "100002       12      203       3  879959583\n",
      "\n",
      "[100003 rows x 4 columns]\n"
     ]
    }
   ],
   "execution_count": 43
  },
  {
   "metadata": {},
   "cell_type": "markdown",
   "source": [
    "3. Выполнить над датафреймом следующие операции:\n",
    "\n",
    ".head().\n",
    "\n",
    ".describe().\n",
    "\n",
    "Считывание значения конкретной ячейки (с конкретным индексом из конкретной колонки).\n",
    "\n",
    "Фильтрация строк по диапазону индекса.\n",
    "\n",
    "Фильтрация набора данных по какому-либо условию.\n",
    "\n",
    "Работа с пропущенными значениями:\n",
    "\n",
    "удаление строк с пропущенными значениями;\n",
    "\n",
    "заполнение пропущенных значений средним значением по колонке.\n",
    "\n",
    "Если пропущенных значений нет - намеренно их сгенерировать, прибить какие-то куски данных в np.nan.\n",
    "\n",
    "Создание нового поля, вычисленного на основе значений других полей:\n",
    "\n",
    "через выражение на базе имеющихся колонок;\n",
    "\n",
    "через DataFrame.apply;\n",
    "\n",
    "через Series.apply.\n",
    "\n",
    "Сортировка по какому-либо из полей.\n",
    "\n",
    "Вычисление нескольких статистик по колонкам (использовать встроенные агрегатные функции - любые на выбор).\n",
    "\n",
    "Вывод по какому-либо полю / набору полей числа значений с использованием .value_counts().\n",
    "\n",
    "Вывод уникальных значений какой-либо колонки с использованием .unique().\n",
    "\n",
    "Удаление текущего индекса, и создание нового индекса на базе новой колонки, которая для этого лучше всего подходит - см. reset_index и set_index.\n"
   ],
   "id": "ad5880636e466121"
  },
  {
   "metadata": {
    "ExecuteTime": {
     "end_time": "2024-05-12T16:39:35.364712Z",
     "start_time": "2024-05-12T16:39:35.340222Z"
    }
   },
   "cell_type": "code",
   "source": [
    "print('dataset :')\n",
    "print(dataset.head(2))\n",
    "print('--------------------------')\n",
    "print(dataset.describe())\n",
    "\n",
    "print('--------------------------')\n",
    "print(dataset.iloc[200, 0])\n",
    "print('--------------------------')\n",
    "print(dataset.iloc[200:204, 0:3])\n",
    "print('--------------------------')\n",
    "print(dataset[dataset['rating'] < 3])\n",
    "print('--------------------------')"
   ],
   "id": "fbbb704dbe9ddf3c",
   "outputs": [
    {
     "name": "stdout",
     "output_type": "stream",
     "text": [
      "dataset :\n",
      "   user_id  item_id  rating  timestamp\n",
      "0        0       50       5  881250949\n",
      "1        0      172       5  881250949\n",
      "--------------------------\n",
      "             user_id        item_id         rating     timestamp\n",
      "count  100003.000000  100003.000000  100003.000000  1.000030e+05\n",
      "mean      462.470876     425.520914       3.529864  8.835288e+08\n",
      "std       266.622454     330.797791       1.125704  5.343791e+06\n",
      "min         0.000000       1.000000       1.000000  8.747247e+08\n",
      "25%       254.000000     175.000000       3.000000  8.794487e+08\n",
      "50%       447.000000     322.000000       4.000000  8.828269e+08\n",
      "75%       682.000000     631.000000       4.000000  8.882600e+08\n",
      "max       943.000000    1682.000000       5.000000  8.932866e+08\n",
      "--------------------------\n",
      "293\n",
      "--------------------------\n",
      "     user_id  item_id  rating\n",
      "200      293     1267       3\n",
      "201       26      930       2\n",
      "202      130      216       4\n",
      "203       92     1079       3\n",
      "--------------------------\n",
      "        user_id  item_id  rating  timestamp\n",
      "2             0      133       1  881250949\n",
      "5            22      377       1  878887116\n",
      "6           244       51       2  880606923\n",
      "7           166      346       1  886397596\n",
      "9           115      265       2  881171488\n",
      "...         ...      ...     ...        ...\n",
      "99987       654      370       2  887863914\n",
      "99990       660      229       2  891406212\n",
      "99996       913      209       2  881367150\n",
      "100000      276     1090       1  874795795\n",
      "100001       13      225       2  882399156\n",
      "\n",
      "[17481 rows x 4 columns]\n",
      "--------------------------\n"
     ]
    }
   ],
   "execution_count": 11
  },
  {
   "metadata": {
    "ExecuteTime": {
     "end_time": "2024-05-12T16:41:30.127182Z",
     "start_time": "2024-05-12T16:41:29.534256Z"
    }
   },
   "cell_type": "code",
   "source": [
    "rows_to_replace = [0, 1, 2]\n",
    "cols_to_replace = [0, 1, 2]\n",
    "# Заменяем случайные значения на np.nan\n",
    "dataset.iloc[rows_to_replace, cols_to_replace] = np.nan\n",
    "cleaned_data = dataset.dropna()\n",
    "print(cleaned_data)\n",
    "print('--------------------------')\n",
    "filled_data = dataset.fillna(dataset.mean())\n",
    "print(filled_data)\n",
    "print('--------------------------')\n",
    "# Через выражение на базе имеющихся колонок\n",
    "dataset['new_column1'] = dataset['rating'] * dataset['timestamp']\n",
    "print(dataset)\n",
    "# Через DataFrame.apply\n",
    "dataset['new_column2'] = dataset.apply(lambda row: row['rating'] * row['timestamp'], axis=1)\n",
    "print(dataset)\n",
    "# Через Series.apply\n",
    "dataset['new_column3'] = dataset['rating'].apply(lambda x: x * 2)\n",
    "print(dataset)\n",
    "print('--------------------------')"
   ],
   "id": "bc3d4bbe4296a84",
   "outputs": [
    {
     "name": "stdout",
     "output_type": "stream",
     "text": [
      "        user_id  item_id  rating  timestamp\n",
      "3         196.0    242.0     3.0  881250949\n",
      "4         186.0    302.0     3.0  891717742\n",
      "5          22.0    377.0     1.0  878887116\n",
      "6         244.0     51.0     2.0  880606923\n",
      "7         166.0    346.0     1.0  886397596\n",
      "...         ...      ...     ...        ...\n",
      "99998     880.0    476.0     3.0  880175444\n",
      "99999     716.0    204.0     5.0  879795543\n",
      "100000    276.0   1090.0     1.0  874795795\n",
      "100001     13.0    225.0     2.0  882399156\n",
      "100002     12.0    203.0     3.0  879959583\n",
      "\n",
      "[100000 rows x 4 columns]\n",
      "--------------------------\n",
      "          user_id     item_id   rating  timestamp\n",
      "0       462.48475   425.53013  3.52986  881250949\n",
      "1       462.48475   425.53013  3.52986  881250949\n",
      "2       462.48475   425.53013  3.52986  881250949\n",
      "3       196.00000   242.00000  3.00000  881250949\n",
      "4       186.00000   302.00000  3.00000  891717742\n",
      "...           ...         ...      ...        ...\n",
      "99998   880.00000   476.00000  3.00000  880175444\n",
      "99999   716.00000   204.00000  5.00000  879795543\n",
      "100000  276.00000  1090.00000  1.00000  874795795\n",
      "100001   13.00000   225.00000  2.00000  882399156\n",
      "100002   12.00000   203.00000  3.00000  879959583\n",
      "\n",
      "[100003 rows x 4 columns]\n",
      "--------------------------\n",
      "        user_id  item_id  rating  timestamp   new_column1\n",
      "0           NaN      NaN     NaN  881250949           NaN\n",
      "1           NaN      NaN     NaN  881250949           NaN\n",
      "2           NaN      NaN     NaN  881250949           NaN\n",
      "3         196.0    242.0     3.0  881250949  2.643753e+09\n",
      "4         186.0    302.0     3.0  891717742  2.675153e+09\n",
      "...         ...      ...     ...        ...           ...\n",
      "99998     880.0    476.0     3.0  880175444  2.640526e+09\n",
      "99999     716.0    204.0     5.0  879795543  4.398978e+09\n",
      "100000    276.0   1090.0     1.0  874795795  8.747958e+08\n",
      "100001     13.0    225.0     2.0  882399156  1.764798e+09\n",
      "100002     12.0    203.0     3.0  879959583  2.639879e+09\n",
      "\n",
      "[100003 rows x 5 columns]\n",
      "        user_id  item_id  rating  timestamp   new_column1   new_column2\n",
      "0           NaN      NaN     NaN  881250949           NaN           NaN\n",
      "1           NaN      NaN     NaN  881250949           NaN           NaN\n",
      "2           NaN      NaN     NaN  881250949           NaN           NaN\n",
      "3         196.0    242.0     3.0  881250949  2.643753e+09  2.643753e+09\n",
      "4         186.0    302.0     3.0  891717742  2.675153e+09  2.675153e+09\n",
      "...         ...      ...     ...        ...           ...           ...\n",
      "99998     880.0    476.0     3.0  880175444  2.640526e+09  2.640526e+09\n",
      "99999     716.0    204.0     5.0  879795543  4.398978e+09  4.398978e+09\n",
      "100000    276.0   1090.0     1.0  874795795  8.747958e+08  8.747958e+08\n",
      "100001     13.0    225.0     2.0  882399156  1.764798e+09  1.764798e+09\n",
      "100002     12.0    203.0     3.0  879959583  2.639879e+09  2.639879e+09\n",
      "\n",
      "[100003 rows x 6 columns]\n",
      "        user_id  item_id  rating  timestamp   new_column1   new_column2  \\\n",
      "0           NaN      NaN     NaN  881250949           NaN           NaN   \n",
      "1           NaN      NaN     NaN  881250949           NaN           NaN   \n",
      "2           NaN      NaN     NaN  881250949           NaN           NaN   \n",
      "3         196.0    242.0     3.0  881250949  2.643753e+09  2.643753e+09   \n",
      "4         186.0    302.0     3.0  891717742  2.675153e+09  2.675153e+09   \n",
      "...         ...      ...     ...        ...           ...           ...   \n",
      "99998     880.0    476.0     3.0  880175444  2.640526e+09  2.640526e+09   \n",
      "99999     716.0    204.0     5.0  879795543  4.398978e+09  4.398978e+09   \n",
      "100000    276.0   1090.0     1.0  874795795  8.747958e+08  8.747958e+08   \n",
      "100001     13.0    225.0     2.0  882399156  1.764798e+09  1.764798e+09   \n",
      "100002     12.0    203.0     3.0  879959583  2.639879e+09  2.639879e+09   \n",
      "\n",
      "        new_column3  \n",
      "0               NaN  \n",
      "1               NaN  \n",
      "2               NaN  \n",
      "3               6.0  \n",
      "4               6.0  \n",
      "...             ...  \n",
      "99998           6.0  \n",
      "99999          10.0  \n",
      "100000          2.0  \n",
      "100001          4.0  \n",
      "100002          6.0  \n",
      "\n",
      "[100003 rows x 7 columns]\n",
      "--------------------------\n"
     ]
    }
   ],
   "execution_count": 12
  },
  {
   "metadata": {
    "ExecuteTime": {
     "end_time": "2024-05-12T16:48:34.992170Z",
     "start_time": "2024-05-12T16:48:34.953474Z"
    }
   },
   "cell_type": "code",
   "source": [
    "sorted_data = dataset.sort_values(by='timestamp', ascending=False)\n",
    "print(sorted_data.iloc[:, 0:4])\n",
    "print('--------------------------')\n",
    "# Вычисление нескольких статистик по колонкам:\n",
    "mean = dataset['rating'].mean()\n",
    "median = dataset['rating'].median()\n",
    "std_dev = dataset['rating'].std()\n",
    "\n",
    "print(\"Mean:\", mean)\n",
    "print(\"Median:\", median)\n",
    "print(\"Standard Deviation:\", std_dev)\n",
    "print('--------------------------')\n",
    "# Вывод по какому-либо полю / набору полей числа значений с использованием .value_counts():\n",
    "value_counts = dataset['item_id'].value_counts()\n",
    "print(value_counts)\n",
    "print('--------------------------')\n",
    "# Вывод уникальных значений какой-либо колонки с использованием .unique():\n",
    "unique_values = dataset['item_id'].unique()\n",
    "print(unique_values)\n",
    "print('--------------------------')\n",
    "# Удаление текущего индекса, и создание нового индекса на базе новой колонки:\n",
    "# Удаление текущего индекса\n",
    "dataset.reset_index(drop=True)  # сбрасываем индекс\n",
    "print(dataset)\n",
    "print('--------------------------')\n",
    "# Создание нового индекса на базе новой колонки\n",
    "dataset.set_index('item_id', inplace=True)\n",
    "print(dataset)\n",
    "print('--------------------------')"
   ],
   "id": "98d528aae0f3d9f9",
   "outputs": [
    {
     "name": "stdout",
     "output_type": "stream",
     "text": [
      "       user_id  item_id  rating  timestamp\n",
      "73011    729.0    313.0     3.0  893286638\n",
      "74247    729.0    300.0     4.0  893286638\n",
      "46577    729.0    328.0     3.0  893286638\n",
      "46776    729.0    689.0     4.0  893286638\n",
      "52137    729.0    333.0     4.0  893286638\n",
      "...        ...      ...     ...        ...\n",
      "82658    259.0    173.0     4.0  874724843\n",
      "21399    259.0    185.0     4.0  874724781\n",
      "43030    259.0    298.0     4.0  874724754\n",
      "83968    259.0    286.0     4.0  874724727\n",
      "217      259.0    255.0     4.0  874724710\n",
      "\n",
      "[100003 rows x 4 columns]\n",
      "--------------------------\n",
      "Mean: 3.52986\n",
      "Median: 4.0\n",
      "Standard Deviation: 1.125673599144129\n",
      "--------------------------\n",
      "item_id\n",
      "50.0      583\n",
      "258.0     509\n",
      "100.0     508\n",
      "181.0     507\n",
      "294.0     485\n",
      "         ... \n",
      "852.0       1\n",
      "1505.0      1\n",
      "1653.0      1\n",
      "1452.0      1\n",
      "1641.0      1\n",
      "Name: count, Length: 1682, dtype: int64\n",
      "--------------------------\n",
      "[  nan  242.  302. ... 1637. 1630. 1641.]\n",
      "--------------------------\n",
      "        user_id  item_id  rating  timestamp   new_column1   new_column2  \\\n",
      "0           NaN      NaN     NaN  881250949           NaN           NaN   \n",
      "1           NaN      NaN     NaN  881250949           NaN           NaN   \n",
      "2           NaN      NaN     NaN  881250949           NaN           NaN   \n",
      "3         196.0    242.0     3.0  881250949  2.643753e+09  2.643753e+09   \n",
      "4         186.0    302.0     3.0  891717742  2.675153e+09  2.675153e+09   \n",
      "...         ...      ...     ...        ...           ...           ...   \n",
      "99998     880.0    476.0     3.0  880175444  2.640526e+09  2.640526e+09   \n",
      "99999     716.0    204.0     5.0  879795543  4.398978e+09  4.398978e+09   \n",
      "100000    276.0   1090.0     1.0  874795795  8.747958e+08  8.747958e+08   \n",
      "100001     13.0    225.0     2.0  882399156  1.764798e+09  1.764798e+09   \n",
      "100002     12.0    203.0     3.0  879959583  2.639879e+09  2.639879e+09   \n",
      "\n",
      "        new_column3  \n",
      "0               NaN  \n",
      "1               NaN  \n",
      "2               NaN  \n",
      "3               6.0  \n",
      "4               6.0  \n",
      "...             ...  \n",
      "99998           6.0  \n",
      "99999          10.0  \n",
      "100000          2.0  \n",
      "100001          4.0  \n",
      "100002          6.0  \n",
      "\n",
      "[100003 rows x 7 columns]\n",
      "--------------------------\n",
      "         user_id  rating  timestamp   new_column1   new_column2  new_column3\n",
      "item_id                                                                     \n",
      "NaN          NaN     NaN  881250949           NaN           NaN          NaN\n",
      "NaN          NaN     NaN  881250949           NaN           NaN          NaN\n",
      "NaN          NaN     NaN  881250949           NaN           NaN          NaN\n",
      "242.0      196.0     3.0  881250949  2.643753e+09  2.643753e+09          6.0\n",
      "302.0      186.0     3.0  891717742  2.675153e+09  2.675153e+09          6.0\n",
      "...          ...     ...        ...           ...           ...          ...\n",
      "476.0      880.0     3.0  880175444  2.640526e+09  2.640526e+09          6.0\n",
      "204.0      716.0     5.0  879795543  4.398978e+09  4.398978e+09         10.0\n",
      "1090.0     276.0     1.0  874795795  8.747958e+08  8.747958e+08          2.0\n",
      "225.0       13.0     2.0  882399156  1.764798e+09  1.764798e+09          4.0\n",
      "203.0       12.0     3.0  879959583  2.639879e+09  2.639879e+09          6.0\n",
      "\n",
      "[100003 rows x 6 columns]\n",
      "--------------------------\n"
     ]
    }
   ],
   "execution_count": 13
  },
  {
   "metadata": {},
   "cell_type": "markdown",
   "source": "4. Продемонстрировать работу .groupby, на основе группировок в groupby вычислить агрегатные функции по одной или нескольким колонкам.",
   "id": "1668f85bd8b60253"
  },
  {
   "metadata": {
    "ExecuteTime": {
     "end_time": "2024-05-12T16:49:45.075981Z",
     "start_time": "2024-05-12T16:49:45.067040Z"
    }
   },
   "cell_type": "code",
   "source": [
    "grouped_data = dataset.groupby('rating').agg({'user_id': 'mean', 'timestamp': 'sum'})\n",
    "print(grouped_data)\n",
    "print('--------------------------')"
   ],
   "id": "6ad64c85fd5cfde5",
   "outputs": [
    {
     "name": "stdout",
     "output_type": "stream",
     "text": [
      "           user_id       timestamp\n",
      "rating                            \n",
      "1.0     433.439771   5399287134808\n",
      "2.0     472.553298  10048423674388\n",
      "3.0     473.030061  23983893758677\n",
      "4.0     464.684175  30188123538057\n",
      "5.0     448.408518  18733157042932\n",
      "--------------------------\n"
     ]
    }
   ],
   "execution_count": 14
  },
  {
   "metadata": {},
   "cell_type": "markdown",
   "source": "5.Решейпинг данных 1D->2D с использованием .pivot (можно подать на вход результаты агрегатов, полученных ранее с использованием .groupby (сгруппировать по двум полям).",
   "id": "1129de65f16b28d9"
  },
  {
   "metadata": {
    "ExecuteTime": {
     "end_time": "2024-05-12T16:50:24.641100Z",
     "start_time": "2024-05-12T16:50:24.626995Z"
    }
   },
   "cell_type": "code",
   "source": [
    "grouped_data_new = dataset.groupby('rating').agg({'user_id': 'mean', 'timestamp': 'sum'})\n",
    "grouped_data_new = grouped_data_new.reset_index()\n",
    "grouped_data_new = grouped_data_new.rename(columns={'rating': 'count_rating'})\n",
    "pivot_df = grouped_data_new.pivot(index='user_id', columns='count_rating', values='count_rating')\n",
    "print(pivot_df)"
   ],
   "id": "5ca92a8d3bd0da99",
   "outputs": [
    {
     "name": "stdout",
     "output_type": "stream",
     "text": [
      "count_rating  1.0  2.0  3.0  4.0  5.0\n",
      "user_id                              \n",
      "433.439771    1.0  NaN  NaN  NaN  NaN\n",
      "448.408518    NaN  NaN  NaN  NaN  5.0\n",
      "464.684175    NaN  NaN  NaN  4.0  NaN\n",
      "472.553298    NaN  2.0  NaN  NaN  NaN\n",
      "473.030061    NaN  NaN  3.0  NaN  NaN\n"
     ]
    }
   ],
   "execution_count": 15
  },
  {
   "metadata": {},
   "cell_type": "markdown",
   "source": "6. Решейпинг 1D->2D данных, соединённых с группировкой / агрегацией (одним словом - сводная таблица): .pivot_table. Группировать только по категориальным полям или числовым, если значений немного.",
   "id": "bd35dd744e452e40"
  },
  {
   "metadata": {
    "ExecuteTime": {
     "end_time": "2024-05-12T16:51:56.891269Z",
     "start_time": "2024-05-12T16:51:56.839126Z"
    }
   },
   "cell_type": "code",
   "source": [
    "pivot_table = pd.pivot_table(dataset, values='rating', index='user_id', columns='item_id', aggfunc=np.mean)\n",
    "print(pivot_table)"
   ],
   "id": "3c9a103ace7ed60d",
   "outputs": [
    {
     "name": "stdout",
     "output_type": "stream",
     "text": [
      "item_id  1.0     2.0     3.0     4.0     5.0     6.0     7.0     8.0     \\\n",
      "user_id                                                                   \n",
      "1.0         5.0     3.0     4.0     3.0     3.0     5.0     4.0     1.0   \n",
      "2.0         4.0     NaN     NaN     NaN     NaN     NaN     NaN     NaN   \n",
      "3.0         NaN     NaN     NaN     NaN     NaN     NaN     NaN     NaN   \n",
      "4.0         NaN     NaN     NaN     NaN     NaN     NaN     NaN     NaN   \n",
      "5.0         4.0     3.0     NaN     NaN     NaN     NaN     NaN     NaN   \n",
      "...         ...     ...     ...     ...     ...     ...     ...     ...   \n",
      "939.0       NaN     NaN     NaN     NaN     NaN     NaN     NaN     NaN   \n",
      "940.0       NaN     NaN     NaN     2.0     NaN     NaN     4.0     5.0   \n",
      "941.0       5.0     NaN     NaN     NaN     NaN     NaN     4.0     NaN   \n",
      "942.0       NaN     NaN     NaN     NaN     NaN     NaN     NaN     NaN   \n",
      "943.0       NaN     5.0     NaN     NaN     NaN     NaN     NaN     NaN   \n",
      "\n",
      "item_id  9.0     10.0    ...  1673.0  1674.0  1675.0  1676.0  1677.0  1678.0  \\\n",
      "user_id                  ...                                                   \n",
      "1.0         5.0     3.0  ...     NaN     NaN     NaN     NaN     NaN     NaN   \n",
      "2.0         NaN     2.0  ...     NaN     NaN     NaN     NaN     NaN     NaN   \n",
      "3.0         NaN     NaN  ...     NaN     NaN     NaN     NaN     NaN     NaN   \n",
      "4.0         NaN     NaN  ...     NaN     NaN     NaN     NaN     NaN     NaN   \n",
      "5.0         NaN     NaN  ...     NaN     NaN     NaN     NaN     NaN     NaN   \n",
      "...         ...     ...  ...     ...     ...     ...     ...     ...     ...   \n",
      "939.0       5.0     NaN  ...     NaN     NaN     NaN     NaN     NaN     NaN   \n",
      "940.0       3.0     NaN  ...     NaN     NaN     NaN     NaN     NaN     NaN   \n",
      "941.0       NaN     NaN  ...     NaN     NaN     NaN     NaN     NaN     NaN   \n",
      "942.0       NaN     NaN  ...     NaN     NaN     NaN     NaN     NaN     NaN   \n",
      "943.0       3.0     NaN  ...     NaN     NaN     NaN     NaN     NaN     NaN   \n",
      "\n",
      "item_id  1679.0  1680.0  1681.0  1682.0  \n",
      "user_id                                  \n",
      "1.0         NaN     NaN     NaN     NaN  \n",
      "2.0         NaN     NaN     NaN     NaN  \n",
      "3.0         NaN     NaN     NaN     NaN  \n",
      "4.0         NaN     NaN     NaN     NaN  \n",
      "5.0         NaN     NaN     NaN     NaN  \n",
      "...         ...     ...     ...     ...  \n",
      "939.0       NaN     NaN     NaN     NaN  \n",
      "940.0       NaN     NaN     NaN     NaN  \n",
      "941.0       NaN     NaN     NaN     NaN  \n",
      "942.0       NaN     NaN     NaN     NaN  \n",
      "943.0       NaN     NaN     NaN     NaN  \n",
      "\n",
      "[943 rows x 1682 columns]\n"
     ]
    },
    {
     "name": "stderr",
     "output_type": "stream",
     "text": [
      "C:\\Users\\user\\AppData\\Local\\Temp\\ipykernel_32656\\2386454026.py:1: FutureWarning: The provided callable <function mean at 0x00000220A4F879C0> is currently using DataFrameGroupBy.mean. In a future version of pandas, the provided callable will be used directly. To keep current behavior pass the string \"mean\" instead.\n",
      "  pivot_table = pd.pivot_table(dataset, values='rating', index='user_id', columns='item_id', aggfunc=np.mean)\n"
     ]
    }
   ],
   "execution_count": 16
  },
  {
   "metadata": {},
   "cell_type": "markdown",
   "source": [
    "7. Вычислить квантили распределения какого-либо вещественного признака (с использованием numpy.quantile или nump.percentile).\n",
    "\n"
   ],
   "id": "c7f167e3606961b1"
  },
  {
   "metadata": {
    "ExecuteTime": {
     "end_time": "2024-05-12T16:53:01.276425Z",
     "start_time": "2024-05-12T16:53:01.267887Z"
    }
   },
   "cell_type": "code",
   "source": [
    "g_column = dataset1[\"item_id\"]\n",
    "q1 = np.percentile(g_column, 25)\n",
    "median = np.percentile(g_column, 50)\n",
    "q3 = np.percentile(g_column, 75)\n",
    "print(\"Первый квантиль:\", q1)\n",
    "print(\"Медиана:\", median)\n",
    "print(\"Третий квантиль:\", q3)"
   ],
   "id": "55b6598996b7f28f",
   "outputs": [
    {
     "name": "stdout",
     "output_type": "stream",
     "text": [
      "Первый квантиль: 175.0\n",
      "Медиана: 322.0\n",
      "Третий квантиль: 631.0\n"
     ]
    }
   ],
   "execution_count": 17
  },
  {
   "metadata": {},
   "cell_type": "markdown",
   "source": "8. Вычислить (в виде текста) гистограмму какого-либо вещественного признака (с использованием numpy.histogram). Значения гистограммы можно использовать в качестве загрубленного числового признака для заданий (5) или (6).",
   "id": "db38995238e0491e"
  },
  {
   "metadata": {
    "ExecuteTime": {
     "end_time": "2024-05-12T16:53:48.818525Z",
     "start_time": "2024-05-12T16:53:48.812343Z"
    }
   },
   "cell_type": "code",
   "source": [
    "hist, bins = np.histogram(dataset1['item_id'], bins=10)\n",
    "print(\"Histogram:\")\n",
    "for i in range(len(hist)):\n",
    "    print(f\"{bins[i]} - {bins[i+1]}: {hist[i]}\")"
   ],
   "id": "30ad044c850b6f67",
   "outputs": [
    {
     "name": "stdout",
     "output_type": "stream",
     "text": [
      "Histogram:\n",
      "1.0 - 169.1: 23673\n",
      "169.1 - 337.2: 28411\n",
      "337.2 - 505.29999999999995: 14237\n",
      "505.29999999999995 - 673.4: 11567\n",
      "673.4 - 841.5: 9108\n",
      "841.5 - 1009.5999999999999: 5549\n",
      "1009.5999999999999 - 1177.7: 4332\n",
      "1177.7 - 1345.8: 1893\n",
      "1345.8 - 1513.8999999999999: 851\n",
      "1513.8999999999999 - 1682.0: 382\n"
     ]
    }
   ],
   "execution_count": 18
  },
  {
   "metadata": {},
   "cell_type": "markdown",
   "source": "9. Проитерировать DataFrame построчно .iterrows() и выполнить какую-либо операцию внутри цикла.",
   "id": "6b05dfa36f4eea0c"
  },
  {
   "metadata": {
    "ExecuteTime": {
     "end_time": "2024-05-12T16:54:13.353934Z",
     "start_time": "2024-05-12T16:54:13.347937Z"
    }
   },
   "cell_type": "code",
   "source": [
    "data_iter = dataset1.iloc[5:35]\n",
    "for index, row in data_iter.iterrows():\n",
    "    row_sum = row['item_id'] + row['rating']\n",
    "    print(f\"Сумма в строке {index}: {row_sum}\")\n"
   ],
   "id": "c95daca91799124c",
   "outputs": [
    {
     "name": "stdout",
     "output_type": "stream",
     "text": [
      "Сумма в строке 5: 378\n",
      "Сумма в строке 6: 53\n",
      "Сумма в строке 7: 347\n",
      "Сумма в строке 8: 478\n",
      "Сумма в строке 9: 267\n",
      "Сумма в строке 10: 470\n",
      "Сумма в строке 11: 454\n",
      "Сумма в строке 12: 89\n",
      "Сумма в строке 13: 259\n",
      "Сумма в строке 14: 1019\n",
      "Сумма в строке 15: 227\n",
      "Сумма в строке 16: 43\n",
      "Сумма в строке 17: 32\n",
      "Сумма в строке 18: 788\n",
      "Сумма в строке 19: 392\n",
      "Сумма в строке 20: 276\n",
      "Сумма в строке 21: 1046\n",
      "Сумма в строке 22: 1186\n",
      "Сумма в строке 23: 396\n",
      "Сумма в строке 24: 490\n",
      "Сумма в строке 25: 148\n",
      "Сумма в строке 26: 120\n",
      "Сумма в строке 27: 5\n",
      "Сумма в строке 28: 548\n",
      "Сумма в строке 29: 100\n",
      "Сумма в строке 30: 770\n",
      "Сумма в строке 31: 281\n",
      "Сумма в строке 32: 239\n",
      "Сумма в строке 33: 249\n",
      "Сумма в строке 34: 102\n"
     ]
    }
   ],
   "execution_count": 19
  },
  {
   "metadata": {},
   "cell_type": "markdown",
   "source": "10. Получить DataFrame с MultiIndex любым способом: через конструктор (в документации есть множество видов конструкторов для создания MultiIndex с нуля), через read_sql / read_csv / read_excel, read_*, через pivot_table, через groupby или иными способами.",
   "id": "63c23006ed9035fe"
  },
  {
   "metadata": {
    "ExecuteTime": {
     "end_time": "2024-05-12T17:03:35.788379Z",
     "start_time": "2024-05-12T17:03:35.767049Z"
    }
   },
   "cell_type": "code",
   "source": [
    "\n",
    "data_multi = dataset1.copy()\n",
    "data_multi[\"rating\"] = data_multi[\"rating\"].astype('category')\n",
    "data_multi.set_index(keys=['rating', 'timestamp'], append=True, inplace=True)# Устанавливаем мультииндекс\n",
    "data_multi.head(10)"
   ],
   "id": "33a2e87853929c22",
   "outputs": [
    {
     "data": {
      "text/plain": [
       "                    user_id  item_id\n",
       "  rating timestamp                  \n",
       "0 5      881250949        0       50\n",
       "1 5      881250949        0      172\n",
       "2 1      881250949        0      133\n",
       "3 3      881250949      196      242\n",
       "4 3      891717742      186      302\n",
       "5 1      878887116       22      377\n",
       "6 2      880606923      244       51\n",
       "7 1      886397596      166      346\n",
       "8 4      884182806      298      474\n",
       "9 2      881171488      115      265"
      ],
      "text/html": [
       "<div>\n",
       "<style scoped>\n",
       "    .dataframe tbody tr th:only-of-type {\n",
       "        vertical-align: middle;\n",
       "    }\n",
       "\n",
       "    .dataframe tbody tr th {\n",
       "        vertical-align: top;\n",
       "    }\n",
       "\n",
       "    .dataframe thead th {\n",
       "        text-align: right;\n",
       "    }\n",
       "</style>\n",
       "<table border=\"1\" class=\"dataframe\">\n",
       "  <thead>\n",
       "    <tr style=\"text-align: right;\">\n",
       "      <th></th>\n",
       "      <th></th>\n",
       "      <th></th>\n",
       "      <th>user_id</th>\n",
       "      <th>item_id</th>\n",
       "    </tr>\n",
       "    <tr>\n",
       "      <th></th>\n",
       "      <th>rating</th>\n",
       "      <th>timestamp</th>\n",
       "      <th></th>\n",
       "      <th></th>\n",
       "    </tr>\n",
       "  </thead>\n",
       "  <tbody>\n",
       "    <tr>\n",
       "      <th>0</th>\n",
       "      <th>5</th>\n",
       "      <th>881250949</th>\n",
       "      <td>0</td>\n",
       "      <td>50</td>\n",
       "    </tr>\n",
       "    <tr>\n",
       "      <th>1</th>\n",
       "      <th>5</th>\n",
       "      <th>881250949</th>\n",
       "      <td>0</td>\n",
       "      <td>172</td>\n",
       "    </tr>\n",
       "    <tr>\n",
       "      <th>2</th>\n",
       "      <th>1</th>\n",
       "      <th>881250949</th>\n",
       "      <td>0</td>\n",
       "      <td>133</td>\n",
       "    </tr>\n",
       "    <tr>\n",
       "      <th>3</th>\n",
       "      <th>3</th>\n",
       "      <th>881250949</th>\n",
       "      <td>196</td>\n",
       "      <td>242</td>\n",
       "    </tr>\n",
       "    <tr>\n",
       "      <th>4</th>\n",
       "      <th>3</th>\n",
       "      <th>891717742</th>\n",
       "      <td>186</td>\n",
       "      <td>302</td>\n",
       "    </tr>\n",
       "    <tr>\n",
       "      <th>5</th>\n",
       "      <th>1</th>\n",
       "      <th>878887116</th>\n",
       "      <td>22</td>\n",
       "      <td>377</td>\n",
       "    </tr>\n",
       "    <tr>\n",
       "      <th>6</th>\n",
       "      <th>2</th>\n",
       "      <th>880606923</th>\n",
       "      <td>244</td>\n",
       "      <td>51</td>\n",
       "    </tr>\n",
       "    <tr>\n",
       "      <th>7</th>\n",
       "      <th>1</th>\n",
       "      <th>886397596</th>\n",
       "      <td>166</td>\n",
       "      <td>346</td>\n",
       "    </tr>\n",
       "    <tr>\n",
       "      <th>8</th>\n",
       "      <th>4</th>\n",
       "      <th>884182806</th>\n",
       "      <td>298</td>\n",
       "      <td>474</td>\n",
       "    </tr>\n",
       "    <tr>\n",
       "      <th>9</th>\n",
       "      <th>2</th>\n",
       "      <th>881171488</th>\n",
       "      <td>115</td>\n",
       "      <td>265</td>\n",
       "    </tr>\n",
       "  </tbody>\n",
       "</table>\n",
       "</div>"
      ]
     },
     "execution_count": 24,
     "metadata": {},
     "output_type": "execute_result"
    }
   ],
   "execution_count": 24
  },
  {
   "metadata": {
    "ExecuteTime": {
     "end_time": "2024-05-12T17:03:47.075082Z",
     "start_time": "2024-05-12T17:03:47.067412Z"
    }
   },
   "cell_type": "code",
   "source": "data_multi.swaplevel('timestamp', 'rating')",
   "id": "df9cf26dc5ac738",
   "outputs": [
    {
     "data": {
      "text/plain": [
       "                         user_id  item_id\n",
       "       timestamp rating                  \n",
       "0      881250949 5             0       50\n",
       "1      881250949 5             0      172\n",
       "2      881250949 1             0      133\n",
       "3      881250949 3           196      242\n",
       "4      891717742 3           186      302\n",
       "...                          ...      ...\n",
       "99998  880175444 3           880      476\n",
       "99999  879795543 5           716      204\n",
       "100000 874795795 1           276     1090\n",
       "100001 882399156 2            13      225\n",
       "100002 879959583 3            12      203\n",
       "\n",
       "[100003 rows x 2 columns]"
      ],
      "text/html": [
       "<div>\n",
       "<style scoped>\n",
       "    .dataframe tbody tr th:only-of-type {\n",
       "        vertical-align: middle;\n",
       "    }\n",
       "\n",
       "    .dataframe tbody tr th {\n",
       "        vertical-align: top;\n",
       "    }\n",
       "\n",
       "    .dataframe thead th {\n",
       "        text-align: right;\n",
       "    }\n",
       "</style>\n",
       "<table border=\"1\" class=\"dataframe\">\n",
       "  <thead>\n",
       "    <tr style=\"text-align: right;\">\n",
       "      <th></th>\n",
       "      <th></th>\n",
       "      <th></th>\n",
       "      <th>user_id</th>\n",
       "      <th>item_id</th>\n",
       "    </tr>\n",
       "    <tr>\n",
       "      <th></th>\n",
       "      <th>timestamp</th>\n",
       "      <th>rating</th>\n",
       "      <th></th>\n",
       "      <th></th>\n",
       "    </tr>\n",
       "  </thead>\n",
       "  <tbody>\n",
       "    <tr>\n",
       "      <th>0</th>\n",
       "      <th>881250949</th>\n",
       "      <th>5</th>\n",
       "      <td>0</td>\n",
       "      <td>50</td>\n",
       "    </tr>\n",
       "    <tr>\n",
       "      <th>1</th>\n",
       "      <th>881250949</th>\n",
       "      <th>5</th>\n",
       "      <td>0</td>\n",
       "      <td>172</td>\n",
       "    </tr>\n",
       "    <tr>\n",
       "      <th>2</th>\n",
       "      <th>881250949</th>\n",
       "      <th>1</th>\n",
       "      <td>0</td>\n",
       "      <td>133</td>\n",
       "    </tr>\n",
       "    <tr>\n",
       "      <th>3</th>\n",
       "      <th>881250949</th>\n",
       "      <th>3</th>\n",
       "      <td>196</td>\n",
       "      <td>242</td>\n",
       "    </tr>\n",
       "    <tr>\n",
       "      <th>4</th>\n",
       "      <th>891717742</th>\n",
       "      <th>3</th>\n",
       "      <td>186</td>\n",
       "      <td>302</td>\n",
       "    </tr>\n",
       "    <tr>\n",
       "      <th>...</th>\n",
       "      <th>...</th>\n",
       "      <th>...</th>\n",
       "      <td>...</td>\n",
       "      <td>...</td>\n",
       "    </tr>\n",
       "    <tr>\n",
       "      <th>99998</th>\n",
       "      <th>880175444</th>\n",
       "      <th>3</th>\n",
       "      <td>880</td>\n",
       "      <td>476</td>\n",
       "    </tr>\n",
       "    <tr>\n",
       "      <th>99999</th>\n",
       "      <th>879795543</th>\n",
       "      <th>5</th>\n",
       "      <td>716</td>\n",
       "      <td>204</td>\n",
       "    </tr>\n",
       "    <tr>\n",
       "      <th>100000</th>\n",
       "      <th>874795795</th>\n",
       "      <th>1</th>\n",
       "      <td>276</td>\n",
       "      <td>1090</td>\n",
       "    </tr>\n",
       "    <tr>\n",
       "      <th>100001</th>\n",
       "      <th>882399156</th>\n",
       "      <th>2</th>\n",
       "      <td>13</td>\n",
       "      <td>225</td>\n",
       "    </tr>\n",
       "    <tr>\n",
       "      <th>100002</th>\n",
       "      <th>879959583</th>\n",
       "      <th>3</th>\n",
       "      <td>12</td>\n",
       "      <td>203</td>\n",
       "    </tr>\n",
       "  </tbody>\n",
       "</table>\n",
       "<p>100003 rows × 2 columns</p>\n",
       "</div>"
      ]
     },
     "execution_count": 25,
     "metadata": {},
     "output_type": "execute_result"
    }
   ],
   "execution_count": 25
  },
  {
   "metadata": {},
   "cell_type": "code",
   "source": "print(data_multi.transpose().head(10))",
   "id": "25e14386c6bbb0a6",
   "outputs": [
    {
     "name": "stdout",
     "output_type": "stream",
     "text": [
      "             0         1         2         3         4         5       \\\n",
      "rating            5         5         1         3         3         1   \n",
      "timestamp 881250949 881250949 881250949 881250949 891717742 878887116   \n",
      "user_id           0         0         0       196       186        22   \n",
      "item_id          50       172       133       242       302       377   \n",
      "\n",
      "             6         7         8         9       ...    99993     99994   \\\n",
      "rating            2         1         4         2  ...         4         4   \n",
      "timestamp 880606923 886397596 884182806 881171488  ... 882388897 892685437   \n",
      "user_id         244       166       298       115  ...       806       676   \n",
      "item_id          51       346       474       265  ...       421       538   \n",
      "\n",
      "             99995     99996     99997     99998     99999     100000  \\\n",
      "rating            3         2         3         3         5         1   \n",
      "timestamp 877137285 881367150 880056976 880175444 879795543 874795795   \n",
      "user_id         721       913       378       880       716       276   \n",
      "item_id         262       209        78       476       204      1090   \n",
      "\n",
      "             100001    100002  \n",
      "rating            2         3  \n",
      "timestamp 882399156 879959583  \n",
      "user_id          13        12  \n",
      "item_id         225       203  \n",
      "\n",
      "[2 rows x 100003 columns]\n"
     ]
    }
   ],
   "execution_count": 30
  },
  {
   "metadata": {
    "ExecuteTime": {
     "end_time": "2024-05-12T17:05:09.717196Z",
     "start_time": "2024-05-12T17:05:09.710208Z"
    }
   },
   "cell_type": "code",
   "source": "data_multi.droplevel('timestamp').head(10)",
   "id": "3ef061c17e983725",
   "outputs": [
    {
     "data": {
      "text/plain": [
       "          user_id  item_id\n",
       "  rating                  \n",
       "0 5             0       50\n",
       "1 5             0      172\n",
       "2 1             0      133\n",
       "3 3           196      242\n",
       "4 3           186      302\n",
       "5 1            22      377\n",
       "6 2           244       51\n",
       "7 1           166      346\n",
       "8 4           298      474\n",
       "9 2           115      265"
      ],
      "text/html": [
       "<div>\n",
       "<style scoped>\n",
       "    .dataframe tbody tr th:only-of-type {\n",
       "        vertical-align: middle;\n",
       "    }\n",
       "\n",
       "    .dataframe tbody tr th {\n",
       "        vertical-align: top;\n",
       "    }\n",
       "\n",
       "    .dataframe thead th {\n",
       "        text-align: right;\n",
       "    }\n",
       "</style>\n",
       "<table border=\"1\" class=\"dataframe\">\n",
       "  <thead>\n",
       "    <tr style=\"text-align: right;\">\n",
       "      <th></th>\n",
       "      <th></th>\n",
       "      <th>user_id</th>\n",
       "      <th>item_id</th>\n",
       "    </tr>\n",
       "    <tr>\n",
       "      <th></th>\n",
       "      <th>rating</th>\n",
       "      <th></th>\n",
       "      <th></th>\n",
       "    </tr>\n",
       "  </thead>\n",
       "  <tbody>\n",
       "    <tr>\n",
       "      <th>0</th>\n",
       "      <th>5</th>\n",
       "      <td>0</td>\n",
       "      <td>50</td>\n",
       "    </tr>\n",
       "    <tr>\n",
       "      <th>1</th>\n",
       "      <th>5</th>\n",
       "      <td>0</td>\n",
       "      <td>172</td>\n",
       "    </tr>\n",
       "    <tr>\n",
       "      <th>2</th>\n",
       "      <th>1</th>\n",
       "      <td>0</td>\n",
       "      <td>133</td>\n",
       "    </tr>\n",
       "    <tr>\n",
       "      <th>3</th>\n",
       "      <th>3</th>\n",
       "      <td>196</td>\n",
       "      <td>242</td>\n",
       "    </tr>\n",
       "    <tr>\n",
       "      <th>4</th>\n",
       "      <th>3</th>\n",
       "      <td>186</td>\n",
       "      <td>302</td>\n",
       "    </tr>\n",
       "    <tr>\n",
       "      <th>5</th>\n",
       "      <th>1</th>\n",
       "      <td>22</td>\n",
       "      <td>377</td>\n",
       "    </tr>\n",
       "    <tr>\n",
       "      <th>6</th>\n",
       "      <th>2</th>\n",
       "      <td>244</td>\n",
       "      <td>51</td>\n",
       "    </tr>\n",
       "    <tr>\n",
       "      <th>7</th>\n",
       "      <th>1</th>\n",
       "      <td>166</td>\n",
       "      <td>346</td>\n",
       "    </tr>\n",
       "    <tr>\n",
       "      <th>8</th>\n",
       "      <th>4</th>\n",
       "      <td>298</td>\n",
       "      <td>474</td>\n",
       "    </tr>\n",
       "    <tr>\n",
       "      <th>9</th>\n",
       "      <th>2</th>\n",
       "      <td>115</td>\n",
       "      <td>265</td>\n",
       "    </tr>\n",
       "  </tbody>\n",
       "</table>\n",
       "</div>"
      ]
     },
     "execution_count": 28,
     "metadata": {},
     "output_type": "execute_result"
    }
   ],
   "execution_count": 28
  },
  {
   "metadata": {},
   "cell_type": "markdown",
   "source": "11. Продемонстировать работу .merge.",
   "id": "7dd0d03f6e0cf569"
  },
  {
   "metadata": {
    "ExecuteTime": {
     "end_time": "2024-05-12T17:06:55.773824Z",
     "start_time": "2024-05-12T17:06:55.746522Z"
    }
   },
   "cell_type": "code",
   "source": [
    "new_data = pd.read_csv('Dataset.csv')\n",
    "data_1 = new_data.iloc[6:10]\n",
    "data_2 = new_data.iloc[11:15]"
   ],
   "id": "5de4448b9feb9235",
   "outputs": [],
   "execution_count": 35
  },
  {
   "metadata": {
    "ExecuteTime": {
     "end_time": "2024-05-12T17:06:57.839994Z",
     "start_time": "2024-05-12T17:06:57.835259Z"
    }
   },
   "cell_type": "code",
   "source": "data_1",
   "id": "9d60348d1804afd4",
   "outputs": [
    {
     "data": {
      "text/plain": [
       "   user_id  item_id  rating  timestamp\n",
       "6      244       51       2  880606923\n",
       "7      166      346       1  886397596\n",
       "8      298      474       4  884182806\n",
       "9      115      265       2  881171488"
      ],
      "text/html": [
       "<div>\n",
       "<style scoped>\n",
       "    .dataframe tbody tr th:only-of-type {\n",
       "        vertical-align: middle;\n",
       "    }\n",
       "\n",
       "    .dataframe tbody tr th {\n",
       "        vertical-align: top;\n",
       "    }\n",
       "\n",
       "    .dataframe thead th {\n",
       "        text-align: right;\n",
       "    }\n",
       "</style>\n",
       "<table border=\"1\" class=\"dataframe\">\n",
       "  <thead>\n",
       "    <tr style=\"text-align: right;\">\n",
       "      <th></th>\n",
       "      <th>user_id</th>\n",
       "      <th>item_id</th>\n",
       "      <th>rating</th>\n",
       "      <th>timestamp</th>\n",
       "    </tr>\n",
       "  </thead>\n",
       "  <tbody>\n",
       "    <tr>\n",
       "      <th>6</th>\n",
       "      <td>244</td>\n",
       "      <td>51</td>\n",
       "      <td>2</td>\n",
       "      <td>880606923</td>\n",
       "    </tr>\n",
       "    <tr>\n",
       "      <th>7</th>\n",
       "      <td>166</td>\n",
       "      <td>346</td>\n",
       "      <td>1</td>\n",
       "      <td>886397596</td>\n",
       "    </tr>\n",
       "    <tr>\n",
       "      <th>8</th>\n",
       "      <td>298</td>\n",
       "      <td>474</td>\n",
       "      <td>4</td>\n",
       "      <td>884182806</td>\n",
       "    </tr>\n",
       "    <tr>\n",
       "      <th>9</th>\n",
       "      <td>115</td>\n",
       "      <td>265</td>\n",
       "      <td>2</td>\n",
       "      <td>881171488</td>\n",
       "    </tr>\n",
       "  </tbody>\n",
       "</table>\n",
       "</div>"
      ]
     },
     "execution_count": 36,
     "metadata": {},
     "output_type": "execute_result"
    }
   ],
   "execution_count": 36
  },
  {
   "metadata": {
    "ExecuteTime": {
     "end_time": "2024-05-12T17:06:59.414443Z",
     "start_time": "2024-05-12T17:06:59.409108Z"
    }
   },
   "cell_type": "code",
   "source": "data_2",
   "id": "95a0f5b3bf13305d",
   "outputs": [
    {
     "data": {
      "text/plain": [
       "    user_id  item_id  rating  timestamp\n",
       "11      305      451       3  886324817\n",
       "12        6       86       3  883603013\n",
       "13       62      257       2  879372434\n",
       "14      286     1014       5  879781125"
      ],
      "text/html": [
       "<div>\n",
       "<style scoped>\n",
       "    .dataframe tbody tr th:only-of-type {\n",
       "        vertical-align: middle;\n",
       "    }\n",
       "\n",
       "    .dataframe tbody tr th {\n",
       "        vertical-align: top;\n",
       "    }\n",
       "\n",
       "    .dataframe thead th {\n",
       "        text-align: right;\n",
       "    }\n",
       "</style>\n",
       "<table border=\"1\" class=\"dataframe\">\n",
       "  <thead>\n",
       "    <tr style=\"text-align: right;\">\n",
       "      <th></th>\n",
       "      <th>user_id</th>\n",
       "      <th>item_id</th>\n",
       "      <th>rating</th>\n",
       "      <th>timestamp</th>\n",
       "    </tr>\n",
       "  </thead>\n",
       "  <tbody>\n",
       "    <tr>\n",
       "      <th>11</th>\n",
       "      <td>305</td>\n",
       "      <td>451</td>\n",
       "      <td>3</td>\n",
       "      <td>886324817</td>\n",
       "    </tr>\n",
       "    <tr>\n",
       "      <th>12</th>\n",
       "      <td>6</td>\n",
       "      <td>86</td>\n",
       "      <td>3</td>\n",
       "      <td>883603013</td>\n",
       "    </tr>\n",
       "    <tr>\n",
       "      <th>13</th>\n",
       "      <td>62</td>\n",
       "      <td>257</td>\n",
       "      <td>2</td>\n",
       "      <td>879372434</td>\n",
       "    </tr>\n",
       "    <tr>\n",
       "      <th>14</th>\n",
       "      <td>286</td>\n",
       "      <td>1014</td>\n",
       "      <td>5</td>\n",
       "      <td>879781125</td>\n",
       "    </tr>\n",
       "  </tbody>\n",
       "</table>\n",
       "</div>"
      ]
     },
     "execution_count": 37,
     "metadata": {},
     "output_type": "execute_result"
    }
   ],
   "execution_count": 37
  },
  {
   "metadata": {
    "ExecuteTime": {
     "end_time": "2024-05-12T17:07:41.333777Z",
     "start_time": "2024-05-12T17:07:41.325488Z"
    }
   },
   "cell_type": "code",
   "source": "pd.merge(data_1, data_2, on='rating', how='inner')",
   "id": "7149d4f9f4c0435",
   "outputs": [
    {
     "data": {
      "text/plain": [
       "   user_id_x  item_id_x  rating  timestamp_x  user_id_y  item_id_y  \\\n",
       "0        244         51       2    880606923         62        257   \n",
       "1        115        265       2    881171488         62        257   \n",
       "\n",
       "   timestamp_y  \n",
       "0    879372434  \n",
       "1    879372434  "
      ],
      "text/html": [
       "<div>\n",
       "<style scoped>\n",
       "    .dataframe tbody tr th:only-of-type {\n",
       "        vertical-align: middle;\n",
       "    }\n",
       "\n",
       "    .dataframe tbody tr th {\n",
       "        vertical-align: top;\n",
       "    }\n",
       "\n",
       "    .dataframe thead th {\n",
       "        text-align: right;\n",
       "    }\n",
       "</style>\n",
       "<table border=\"1\" class=\"dataframe\">\n",
       "  <thead>\n",
       "    <tr style=\"text-align: right;\">\n",
       "      <th></th>\n",
       "      <th>user_id_x</th>\n",
       "      <th>item_id_x</th>\n",
       "      <th>rating</th>\n",
       "      <th>timestamp_x</th>\n",
       "      <th>user_id_y</th>\n",
       "      <th>item_id_y</th>\n",
       "      <th>timestamp_y</th>\n",
       "    </tr>\n",
       "  </thead>\n",
       "  <tbody>\n",
       "    <tr>\n",
       "      <th>0</th>\n",
       "      <td>244</td>\n",
       "      <td>51</td>\n",
       "      <td>2</td>\n",
       "      <td>880606923</td>\n",
       "      <td>62</td>\n",
       "      <td>257</td>\n",
       "      <td>879372434</td>\n",
       "    </tr>\n",
       "    <tr>\n",
       "      <th>1</th>\n",
       "      <td>115</td>\n",
       "      <td>265</td>\n",
       "      <td>2</td>\n",
       "      <td>881171488</td>\n",
       "      <td>62</td>\n",
       "      <td>257</td>\n",
       "      <td>879372434</td>\n",
       "    </tr>\n",
       "  </tbody>\n",
       "</table>\n",
       "</div>"
      ]
     },
     "execution_count": 39,
     "metadata": {},
     "output_type": "execute_result"
    }
   ],
   "execution_count": 39
  },
  {
   "metadata": {},
   "cell_type": "markdown",
   "source": "12. Продемонстрировать работу с .concat или append.",
   "id": "6ea63f86a1cc3956"
  },
  {
   "metadata": {
    "ExecuteTime": {
     "end_time": "2024-05-12T17:08:53.661412Z",
     "start_time": "2024-05-12T17:08:53.655411Z"
    }
   },
   "cell_type": "code",
   "source": "pd.concat([data_1, data_2])",
   "id": "16291f0c25309371",
   "outputs": [
    {
     "data": {
      "text/plain": [
       "    user_id  item_id  rating  timestamp\n",
       "6       244       51       2  880606923\n",
       "7       166      346       1  886397596\n",
       "8       298      474       4  884182806\n",
       "9       115      265       2  881171488\n",
       "11      305      451       3  886324817\n",
       "12        6       86       3  883603013\n",
       "13       62      257       2  879372434\n",
       "14      286     1014       5  879781125"
      ],
      "text/html": [
       "<div>\n",
       "<style scoped>\n",
       "    .dataframe tbody tr th:only-of-type {\n",
       "        vertical-align: middle;\n",
       "    }\n",
       "\n",
       "    .dataframe tbody tr th {\n",
       "        vertical-align: top;\n",
       "    }\n",
       "\n",
       "    .dataframe thead th {\n",
       "        text-align: right;\n",
       "    }\n",
       "</style>\n",
       "<table border=\"1\" class=\"dataframe\">\n",
       "  <thead>\n",
       "    <tr style=\"text-align: right;\">\n",
       "      <th></th>\n",
       "      <th>user_id</th>\n",
       "      <th>item_id</th>\n",
       "      <th>rating</th>\n",
       "      <th>timestamp</th>\n",
       "    </tr>\n",
       "  </thead>\n",
       "  <tbody>\n",
       "    <tr>\n",
       "      <th>6</th>\n",
       "      <td>244</td>\n",
       "      <td>51</td>\n",
       "      <td>2</td>\n",
       "      <td>880606923</td>\n",
       "    </tr>\n",
       "    <tr>\n",
       "      <th>7</th>\n",
       "      <td>166</td>\n",
       "      <td>346</td>\n",
       "      <td>1</td>\n",
       "      <td>886397596</td>\n",
       "    </tr>\n",
       "    <tr>\n",
       "      <th>8</th>\n",
       "      <td>298</td>\n",
       "      <td>474</td>\n",
       "      <td>4</td>\n",
       "      <td>884182806</td>\n",
       "    </tr>\n",
       "    <tr>\n",
       "      <th>9</th>\n",
       "      <td>115</td>\n",
       "      <td>265</td>\n",
       "      <td>2</td>\n",
       "      <td>881171488</td>\n",
       "    </tr>\n",
       "    <tr>\n",
       "      <th>11</th>\n",
       "      <td>305</td>\n",
       "      <td>451</td>\n",
       "      <td>3</td>\n",
       "      <td>886324817</td>\n",
       "    </tr>\n",
       "    <tr>\n",
       "      <th>12</th>\n",
       "      <td>6</td>\n",
       "      <td>86</td>\n",
       "      <td>3</td>\n",
       "      <td>883603013</td>\n",
       "    </tr>\n",
       "    <tr>\n",
       "      <th>13</th>\n",
       "      <td>62</td>\n",
       "      <td>257</td>\n",
       "      <td>2</td>\n",
       "      <td>879372434</td>\n",
       "    </tr>\n",
       "    <tr>\n",
       "      <th>14</th>\n",
       "      <td>286</td>\n",
       "      <td>1014</td>\n",
       "      <td>5</td>\n",
       "      <td>879781125</td>\n",
       "    </tr>\n",
       "  </tbody>\n",
       "</table>\n",
       "</div>"
      ]
     },
     "execution_count": 40,
     "metadata": {},
     "output_type": "execute_result"
    }
   ],
   "execution_count": 40
  }
 ],
 "metadata": {
  "kernelspec": {
   "display_name": "Python 3",
   "language": "python",
   "name": "python3"
  },
  "language_info": {
   "codemirror_mode": {
    "name": "ipython",
    "version": 2
   },
   "file_extension": ".py",
   "mimetype": "text/x-python",
   "name": "python",
   "nbconvert_exporter": "python",
   "pygments_lexer": "ipython2",
   "version": "2.7.6"
  }
 },
 "nbformat": 4,
 "nbformat_minor": 5
}
